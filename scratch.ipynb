{
  "nbformat": 4,
  "nbformat_minor": 0,
  "metadata": {
    "colab": {
      "name": "scratch.ipynb",
      "provenance": [],
      "authorship_tag": "ABX9TyOCGpYLPLxZC/0R8g4fDEpa"
    },
    "kernelspec": {
      "name": "python3",
      "display_name": "Python 3"
    },
    "accelerator": "GPU"
  },
  "cells": [
    {
      "cell_type": "markdown",
      "metadata": {
        "id": "zEsErNfZAfau",
        "colab_type": "text"
      },
      "source": [
        "Sigmoid function and derivative"
      ]
    },
    {
      "cell_type": "code",
      "metadata": {
        "id": "A6ljljUn-na-",
        "colab_type": "code",
        "colab": {}
      },
      "source": [
        "import numpy as np\n",
        "import matplotlib.pyplot as plt\n",
        "\n",
        "def sigmoid(x):\n",
        "    return 1 / (1 + np.exp(-1 * x))\n",
        "\n",
        "def sigmoidd(x):\n",
        "    return sigmoid(x) * (1 - sigmoid(x))"
      ],
      "execution_count": 53,
      "outputs": []
    },
    {
      "cell_type": "markdown",
      "metadata": {
        "id": "KjDDw6KyA3yv",
        "colab_type": "text"
      },
      "source": [
        "relu and derivative"
      ]
    },
    {
      "cell_type": "code",
      "metadata": {
        "id": "WS65l8vbA5g_",
        "colab_type": "code",
        "colab": {}
      },
      "source": [
        "def relu(x):\n",
        "    return np.maximum(0, x)\n",
        "\n",
        "def relud(x):\n",
        "    x[x >= 0] = 1\n",
        "    x[x < 0]  = 0\n",
        "    return x"
      ],
      "execution_count": 54,
      "outputs": []
    },
    {
      "cell_type": "markdown",
      "metadata": {
        "id": "pfj1OPr2C-UD",
        "colab_type": "text"
      },
      "source": [
        "model, relu for every hidden layer and sigmoid for the final layer"
      ]
    },
    {
      "cell_type": "code",
      "metadata": {
        "id": "jHD0MCNWAYoZ",
        "colab_type": "code",
        "colab": {}
      },
      "source": [
        "\n",
        "class model():\n",
        "    \n",
        "    def __init__(self):\n",
        "        self.layers = []     \n",
        "        self.L = 0\n",
        "        self.W = {}\n",
        "        self.b = {}\n",
        "        self.A = {}\n",
        "        self.Z = {}\n",
        "        self.dA = {}\n",
        "        self.dZ = {}\n",
        "        self.dW = {}\n",
        "        self.db = {}\n",
        "        self.loss = 0.\n",
        "        self.m = 0\n",
        "        self.lam = 0\n",
        "        self.alpha = 0.\n",
        "        self.iterations = 0\n",
        "\n",
        "        return\n",
        "    \n",
        "    def add_layers(self, list_of_layers):\n",
        "        \n",
        "        self.layers = list_of_layers\n",
        "        self.L = len(self.layers) - 1 \n",
        "        \n",
        "        return"
      ],
      "execution_count": 55,
      "outputs": []
    },
    {
      "cell_type": "code",
      "metadata": {
        "id": "K0X6VOGTBgFx",
        "colab_type": "code",
        "colab": {}
      },
      "source": [
        "def init_params(self):\n",
        "        \n",
        "        for i in range(1, self.L + 1):\n",
        "            self.W[str(i)] = np.random.randn(self.layers[i], self.layers[i - 1]) * np.sqrt(2. / self.layers[i - 1])\n",
        "            self.b[str(i)] = np.zeros((self.layers[i], 1))\n",
        "            \n",
        "        return\n",
        "    \n",
        "def forward_prop(self, X):\n",
        "        \n",
        "        self.A['0'] = X\n",
        "        \n",
        "        for i in range(1, self.L + 1):\n",
        "            self.Z[str(i)] = np.dot(self.W[str(i)], self.A[str(i - 1)]) + self.b[str(i)]\n",
        "            if i == self.L:\n",
        "                self.A[str(i)] = sigmoid(self.Z[str(i)])\n",
        "            else:\n",
        "                self.A[str(i)] = relu(self.Z[str(i)])\n",
        "        \n",
        "        return"
      ],
      "execution_count": 56,
      "outputs": []
    },
    {
      "cell_type": "code",
      "metadata": {
        "id": "cUHAJLoTBkEF",
        "colab_type": "code",
        "colab": {}
      },
      "source": [
        " def compute_loss(self, Y):\n",
        "        \n",
        "        self.cost = -1 * np.sum(np.multiply(Y, np.log(self.A[str(self.L)])) + \n",
        "                           np.multiply(1 - Y, np.log(1 - self.A[str(self.L)]))) / self.m \n",
        "        \n",
        "        if self.lam != 0:\n",
        "            reg = (self.lam / (2 * self.m))\n",
        "            for i in range(1, self.L + 1):\n",
        "                reg += np.sum(np.dot(self.W[str(i)], self.W[str(i)].T))\n",
        "            self.loss += reg\n",
        "        \n",
        "        return"
      ],
      "execution_count": 57,
      "outputs": []
    },
    {
      "cell_type": "code",
      "metadata": {
        "id": "7QEyKCoNB0pr",
        "colab_type": "code",
        "colab": {}
      },
      "source": [
        "def backward_prop(self, Y):\n",
        "        '''\n",
        "        dA[str(L)] to start the backward prop computation\n",
        "        '''\n",
        "        self.dA[str(self.L)] = -1 * (np.divide(Y, self.A[str(self.L)]) - np.divide(1 - Y, 1 - self.A[str(self.L)]))\n",
        "        self.dZ[str(self.L)] = np.multiply(self.dA[str(self.L)], sigmoidd(self.Z[str(self.L)]))\n",
        "        self.dW[str(self.L)] = np.dot(self.dZ[str(self.L)], self.A[str(self.L - 1)].T) / self.m + (self.lam/self.m) * self.W[str(self.L)]\n",
        "        self.db[str(self.L)] = np.sum(self.dZ[str(self.L)], axis = 1, keepdims = True) / self.m\n",
        "        self.dA[str(self.L - 1)] = np.dot(self.W[str(self.L)].T, self.dZ[str(self.L)])\n",
        "            \n",
        "        for i in reversed(range(1, self.L)):\n",
        "\n",
        "            self.dZ[str(i)] = np.multiply(self.dA[str(i)], relud(self.Z[str(i)]))\n",
        "            self.dW[str(i)] = np.dot(self.dZ[str(i)], self.A[str(i - 1)].T) / self.m + (self.lam/self.m) * self.W[str(i)]\n",
        "            self.db[str(i)] = np.sum(self.dZ[str(i)], axis = 1, keepdims = True) / self.m\n",
        "            self.dA[str(i - 1)] = np.dot(self.W[str(i)].T, self.dZ[str(i)])\n",
        "        \n",
        "        return\n",
        "    \n",
        "def update_params(self):\n",
        "        \n",
        "        for i in range(1, self.L + 1):\n",
        "            self.W[str(i)] = self.W[str(i)] - self.alpha * self.dW[str(i)]\n",
        "            self.b[str(i)] = self.b[str(i)] - self.alpha * self.db[str(i)]\n",
        "        \n",
        "        return"
      ],
      "execution_count": 58,
      "outputs": []
    },
    {
      "cell_type": "code",
      "metadata": {
        "id": "pSj--KsfCASn",
        "colab_type": "code",
        "colab": {}
      },
      "source": [
        "def train(self, X, Y, iterations = 10, \n",
        "        alpha = 0.001, decay = True, decay_iter = 5, decay_rate = 0.9, stop_decay_counter = 100, lam = 0):\n",
        "        \n",
        "        self.m = Y.shape[1]\n",
        "        self.alpha = alpha\n",
        "        self.iterations = iterations\n",
        "        self.lam = lam\n",
        "        \n",
        "        # initialize parameters\n",
        "        init_params(self)\n",
        "\n",
        "        for i in range(iterations):\n",
        "            forward_prop(self,X)\n",
        "            compute_loss(self,Y)\n",
        "            backward_prop(self,Y)\n",
        "            update_params(self)\n",
        "            if decay and stop_decay_counter > 0 and i % decay_iter == 0:\n",
        "                self.alpha = decay_rate * self.alpha\n",
        "                stop_decay_counter -= 1\n",
        "                   \n",
        "        return"
      ],
      "execution_count": 59,
      "outputs": []
    },
    {
      "cell_type": "code",
      "metadata": {
        "id": "b7BojW0pCcH4",
        "colab_type": "code",
        "colab": {}
      },
      "source": [
        "def predict(self, X, in_training = False):\n",
        "        \n",
        "        if in_training == False:\n",
        "            forward_prop(self, X)\n",
        "            \n",
        "        preds = self.A[str(self.L)] >= 0.5\n",
        "        preds = np.squeeze(preds)\n",
        "        \n",
        "        return preds\n",
        "        \n",
        "def evaluate(self, X, Y, in_training = False):\n",
        "        \n",
        "        examples = X.shape[1]\n",
        "        \n",
        "        pred = predict(self, X, in_training = in_training)\n",
        "        pred = pred.reshape(1, examples)\n",
        "        diff = np.sum(abs(pred - Y))\n",
        "        acc = (examples - np.sum(diff)) / examples\n",
        "        \n",
        "        return acc"
      ],
      "execution_count": 66,
      "outputs": []
    },
    {
      "cell_type": "markdown",
      "metadata": {
        "id": "nMlSzQrJDoL9",
        "colab_type": "text"
      },
      "source": [
        "Sklearn's load_breast_cancer for testing purposes"
      ]
    },
    {
      "cell_type": "code",
      "metadata": {
        "id": "GdyjJozICpKo",
        "colab_type": "code",
        "colab": {
          "base_uri": "https://localhost:8080/",
          "height": 258
        },
        "outputId": "66c8103b-2c32-4d61-b54a-a1299e7b69c3"
      },
      "source": [
        "from sklearn.datasets import load_breast_cancer\n",
        "import pandas as pd\n",
        "bca = load_breast_cancer()\n",
        "ba = pd.DataFrame(bca.data)\n",
        "ba.columns = bca.feature_names\n",
        "ba['CLASS'] = bca.target\n",
        "ba.head()"
      ],
      "execution_count": 77,
      "outputs": [
        {
          "output_type": "execute_result",
          "data": {
            "text/html": [
              "<div>\n",
              "<style scoped>\n",
              "    .dataframe tbody tr th:only-of-type {\n",
              "        vertical-align: middle;\n",
              "    }\n",
              "\n",
              "    .dataframe tbody tr th {\n",
              "        vertical-align: top;\n",
              "    }\n",
              "\n",
              "    .dataframe thead th {\n",
              "        text-align: right;\n",
              "    }\n",
              "</style>\n",
              "<table border=\"1\" class=\"dataframe\">\n",
              "  <thead>\n",
              "    <tr style=\"text-align: right;\">\n",
              "      <th></th>\n",
              "      <th>mean radius</th>\n",
              "      <th>mean texture</th>\n",
              "      <th>mean perimeter</th>\n",
              "      <th>mean area</th>\n",
              "      <th>mean smoothness</th>\n",
              "      <th>mean compactness</th>\n",
              "      <th>mean concavity</th>\n",
              "      <th>mean concave points</th>\n",
              "      <th>mean symmetry</th>\n",
              "      <th>mean fractal dimension</th>\n",
              "      <th>radius error</th>\n",
              "      <th>texture error</th>\n",
              "      <th>perimeter error</th>\n",
              "      <th>area error</th>\n",
              "      <th>smoothness error</th>\n",
              "      <th>compactness error</th>\n",
              "      <th>concavity error</th>\n",
              "      <th>concave points error</th>\n",
              "      <th>symmetry error</th>\n",
              "      <th>fractal dimension error</th>\n",
              "      <th>worst radius</th>\n",
              "      <th>worst texture</th>\n",
              "      <th>worst perimeter</th>\n",
              "      <th>worst area</th>\n",
              "      <th>worst smoothness</th>\n",
              "      <th>worst compactness</th>\n",
              "      <th>worst concavity</th>\n",
              "      <th>worst concave points</th>\n",
              "      <th>worst symmetry</th>\n",
              "      <th>worst fractal dimension</th>\n",
              "      <th>CLASS</th>\n",
              "    </tr>\n",
              "  </thead>\n",
              "  <tbody>\n",
              "    <tr>\n",
              "      <th>0</th>\n",
              "      <td>17.99</td>\n",
              "      <td>10.38</td>\n",
              "      <td>122.80</td>\n",
              "      <td>1001.0</td>\n",
              "      <td>0.11840</td>\n",
              "      <td>0.27760</td>\n",
              "      <td>0.3001</td>\n",
              "      <td>0.14710</td>\n",
              "      <td>0.2419</td>\n",
              "      <td>0.07871</td>\n",
              "      <td>1.0950</td>\n",
              "      <td>0.9053</td>\n",
              "      <td>8.589</td>\n",
              "      <td>153.40</td>\n",
              "      <td>0.006399</td>\n",
              "      <td>0.04904</td>\n",
              "      <td>0.05373</td>\n",
              "      <td>0.01587</td>\n",
              "      <td>0.03003</td>\n",
              "      <td>0.006193</td>\n",
              "      <td>25.38</td>\n",
              "      <td>17.33</td>\n",
              "      <td>184.60</td>\n",
              "      <td>2019.0</td>\n",
              "      <td>0.1622</td>\n",
              "      <td>0.6656</td>\n",
              "      <td>0.7119</td>\n",
              "      <td>0.2654</td>\n",
              "      <td>0.4601</td>\n",
              "      <td>0.11890</td>\n",
              "      <td>0</td>\n",
              "    </tr>\n",
              "    <tr>\n",
              "      <th>1</th>\n",
              "      <td>20.57</td>\n",
              "      <td>17.77</td>\n",
              "      <td>132.90</td>\n",
              "      <td>1326.0</td>\n",
              "      <td>0.08474</td>\n",
              "      <td>0.07864</td>\n",
              "      <td>0.0869</td>\n",
              "      <td>0.07017</td>\n",
              "      <td>0.1812</td>\n",
              "      <td>0.05667</td>\n",
              "      <td>0.5435</td>\n",
              "      <td>0.7339</td>\n",
              "      <td>3.398</td>\n",
              "      <td>74.08</td>\n",
              "      <td>0.005225</td>\n",
              "      <td>0.01308</td>\n",
              "      <td>0.01860</td>\n",
              "      <td>0.01340</td>\n",
              "      <td>0.01389</td>\n",
              "      <td>0.003532</td>\n",
              "      <td>24.99</td>\n",
              "      <td>23.41</td>\n",
              "      <td>158.80</td>\n",
              "      <td>1956.0</td>\n",
              "      <td>0.1238</td>\n",
              "      <td>0.1866</td>\n",
              "      <td>0.2416</td>\n",
              "      <td>0.1860</td>\n",
              "      <td>0.2750</td>\n",
              "      <td>0.08902</td>\n",
              "      <td>0</td>\n",
              "    </tr>\n",
              "    <tr>\n",
              "      <th>2</th>\n",
              "      <td>19.69</td>\n",
              "      <td>21.25</td>\n",
              "      <td>130.00</td>\n",
              "      <td>1203.0</td>\n",
              "      <td>0.10960</td>\n",
              "      <td>0.15990</td>\n",
              "      <td>0.1974</td>\n",
              "      <td>0.12790</td>\n",
              "      <td>0.2069</td>\n",
              "      <td>0.05999</td>\n",
              "      <td>0.7456</td>\n",
              "      <td>0.7869</td>\n",
              "      <td>4.585</td>\n",
              "      <td>94.03</td>\n",
              "      <td>0.006150</td>\n",
              "      <td>0.04006</td>\n",
              "      <td>0.03832</td>\n",
              "      <td>0.02058</td>\n",
              "      <td>0.02250</td>\n",
              "      <td>0.004571</td>\n",
              "      <td>23.57</td>\n",
              "      <td>25.53</td>\n",
              "      <td>152.50</td>\n",
              "      <td>1709.0</td>\n",
              "      <td>0.1444</td>\n",
              "      <td>0.4245</td>\n",
              "      <td>0.4504</td>\n",
              "      <td>0.2430</td>\n",
              "      <td>0.3613</td>\n",
              "      <td>0.08758</td>\n",
              "      <td>0</td>\n",
              "    </tr>\n",
              "    <tr>\n",
              "      <th>3</th>\n",
              "      <td>11.42</td>\n",
              "      <td>20.38</td>\n",
              "      <td>77.58</td>\n",
              "      <td>386.1</td>\n",
              "      <td>0.14250</td>\n",
              "      <td>0.28390</td>\n",
              "      <td>0.2414</td>\n",
              "      <td>0.10520</td>\n",
              "      <td>0.2597</td>\n",
              "      <td>0.09744</td>\n",
              "      <td>0.4956</td>\n",
              "      <td>1.1560</td>\n",
              "      <td>3.445</td>\n",
              "      <td>27.23</td>\n",
              "      <td>0.009110</td>\n",
              "      <td>0.07458</td>\n",
              "      <td>0.05661</td>\n",
              "      <td>0.01867</td>\n",
              "      <td>0.05963</td>\n",
              "      <td>0.009208</td>\n",
              "      <td>14.91</td>\n",
              "      <td>26.50</td>\n",
              "      <td>98.87</td>\n",
              "      <td>567.7</td>\n",
              "      <td>0.2098</td>\n",
              "      <td>0.8663</td>\n",
              "      <td>0.6869</td>\n",
              "      <td>0.2575</td>\n",
              "      <td>0.6638</td>\n",
              "      <td>0.17300</td>\n",
              "      <td>0</td>\n",
              "    </tr>\n",
              "    <tr>\n",
              "      <th>4</th>\n",
              "      <td>20.29</td>\n",
              "      <td>14.34</td>\n",
              "      <td>135.10</td>\n",
              "      <td>1297.0</td>\n",
              "      <td>0.10030</td>\n",
              "      <td>0.13280</td>\n",
              "      <td>0.1980</td>\n",
              "      <td>0.10430</td>\n",
              "      <td>0.1809</td>\n",
              "      <td>0.05883</td>\n",
              "      <td>0.7572</td>\n",
              "      <td>0.7813</td>\n",
              "      <td>5.438</td>\n",
              "      <td>94.44</td>\n",
              "      <td>0.011490</td>\n",
              "      <td>0.02461</td>\n",
              "      <td>0.05688</td>\n",
              "      <td>0.01885</td>\n",
              "      <td>0.01756</td>\n",
              "      <td>0.005115</td>\n",
              "      <td>22.54</td>\n",
              "      <td>16.67</td>\n",
              "      <td>152.20</td>\n",
              "      <td>1575.0</td>\n",
              "      <td>0.1374</td>\n",
              "      <td>0.2050</td>\n",
              "      <td>0.4000</td>\n",
              "      <td>0.1625</td>\n",
              "      <td>0.2364</td>\n",
              "      <td>0.07678</td>\n",
              "      <td>0</td>\n",
              "    </tr>\n",
              "  </tbody>\n",
              "</table>\n",
              "</div>"
            ],
            "text/plain": [
              "   mean radius  mean texture  ...  worst fractal dimension  CLASS\n",
              "0        17.99         10.38  ...                  0.11890      0\n",
              "1        20.57         17.77  ...                  0.08902      0\n",
              "2        19.69         21.25  ...                  0.08758      0\n",
              "3        11.42         20.38  ...                  0.17300      0\n",
              "4        20.29         14.34  ...                  0.07678      0\n",
              "\n",
              "[5 rows x 31 columns]"
            ]
          },
          "metadata": {
            "tags": []
          },
          "execution_count": 77
        }
      ]
    },
    {
      "cell_type": "code",
      "metadata": {
        "id": "dtQmKUEpEszK",
        "colab_type": "code",
        "colab": {
          "base_uri": "https://localhost:8080/",
          "height": 51
        },
        "outputId": "d36ed1bc-dc94-43fb-d7b2-f163c7297bb3"
      },
      "source": [
        "x = bca.data[:, :30]\n",
        "y = bca.target\n",
        "y = y.reshape(y.shape[0],1)\n",
        "\n",
        "from sklearn.preprocessing import StandardScaler\n",
        "scaler = StandardScaler()\n",
        "x = scaler.fit_transform(x,y)\n",
        "\n",
        "print(x.shape)\n",
        "print(y.shape)"
      ],
      "execution_count": 88,
      "outputs": [
        {
          "output_type": "stream",
          "text": [
            "(569, 30)\n",
            "(569, 1)\n"
          ],
          "name": "stdout"
        }
      ]
    },
    {
      "cell_type": "markdown",
      "metadata": {
        "id": "bFpprTaUFRgr",
        "colab_type": "text"
      },
      "source": [
        "train test split, one-hot encoding and scaling"
      ]
    },
    {
      "cell_type": "code",
      "metadata": {
        "id": "--I5sDlUFS6_",
        "colab_type": "code",
        "colab": {
          "base_uri": "https://localhost:8080/",
          "height": 85
        },
        "outputId": "140afb74-e048-4014-91b5-5d68d9a876cb"
      },
      "source": [
        "from sklearn.model_selection import train_test_split\n",
        "\n",
        "X_train, X_test, y_train, y_test = train_test_split(x, y, test_size=0.2, random_state=17)\n",
        "\n",
        "print(X_train.shape)\n",
        "print(y_train.shape)\n",
        "print(X_test.shape)\n",
        "print(y_test.shape)"
      ],
      "execution_count": 90,
      "outputs": [
        {
          "output_type": "stream",
          "text": [
            "(455, 30)\n",
            "(455, 1)\n",
            "(114, 30)\n",
            "(114, 1)\n"
          ],
          "name": "stdout"
        }
      ]
    },
    {
      "cell_type": "code",
      "metadata": {
        "id": "6Pfh-M8fFmeD",
        "colab_type": "code",
        "colab": {}
      },
      "source": [
        "X_train = X_train.reshape(30, 455)\n",
        "y_train = y_train.reshape(1, 455)\n",
        "X_test  = X_test.reshape(30, 114)\n",
        "y_test  = y_test.reshape(1, 114)"
      ],
      "execution_count": 91,
      "outputs": []
    },
    {
      "cell_type": "code",
      "metadata": {
        "id": "b5xHvbl_GQ8v",
        "colab_type": "code",
        "colab": {
          "base_uri": "https://localhost:8080/",
          "height": 34
        },
        "outputId": "a16d57a9-f0b1-41a8-d418-5ad0949aa4b9"
      },
      "source": [
        "test = model()\n",
        "test.add_layers([30, 32, 64, 128, 1])\n",
        "\n",
        "train(test, X_train, y_train, iterations = 15000)\n",
        "print('test accuracy = ', evaluate(test, X_test, y_test))"
      ],
      "execution_count": 100,
      "outputs": [
        {
          "output_type": "stream",
          "text": [
            "test accuracy =  0.5789473684210527\n"
          ],
          "name": "stdout"
        }
      ]
    }
  ]
}